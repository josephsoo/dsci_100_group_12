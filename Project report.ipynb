{
 "cells": [
  {
   "cell_type": "markdown",
   "id": "97b67ce0-494a-4498-9559-3f40e7fbeb67",
   "metadata": {},
   "source": [
    "### Project Report Group 12"
   ]
  },
  {
   "cell_type": "markdown",
   "id": "f1a4dc85-761f-477f-991e-e5f0dd8879d7",
   "metadata": {},
   "source": [
    "Great project and a great proposal layout. I also appreciate ensuring the code is reproducible. Some feedback regarding the different components:\n",
    "\n",
    "Throughout the project, make sure you back up any claims you make (ex. heart disease is the greatest killer in the world) using trusted sources.\n",
    "\n",
    "When conducting your exploratory analysis, I recommend avoiding standardizing your variables. Scaling/centering is necessary when you're building a KNN model with multiple variables. For exploratory analysis, your data loses interpretability once you scale/center.\n",
    "\n",
    "For your graphs, I suggest using boxplots to compare variables in a more obvious manner. While scatter plots are prettier to look at, they can sometimes be less informative/confusing to interpret. Reach out if you have any questions about building/reading boxplots (geom_boxplot). Besides that, I appreciate the visualizations you created. While the histograms are useful, I recommend setting position = \"identity\" and not faceting the plot (unless you're putting one over the other). This allows you to compare the peak/center between individuals with/without heart disease. \n",
    "\n",
    "Again, i recommend not scaling the data at this stage. Also, in your final report, please make sure you spend more time interpreting your graphs in commentary. For example: \"The distribution of ages of individuals diagnosed with heart disease is shifted to the right relative to those with no heart disease (i.e. they're older). Based on this, I believe age is a good predictor for heart disease.\"\n",
    "\n",
    "In your methods, make sure you address how you plan on defining the best value of K. Great job with the rest of the methods section."
   ]
  },
  {
   "cell_type": "code",
   "execution_count": null,
   "id": "88e9097d-a19d-4388-8f3b-8829cbf878fc",
   "metadata": {},
   "outputs": [],
   "source": []
  }
 ],
 "metadata": {
  "kernelspec": {
   "display_name": "R",
   "language": "R",
   "name": "ir"
  },
  "language_info": {
   "codemirror_mode": "r",
   "file_extension": ".r",
   "mimetype": "text/x-r-source",
   "name": "R",
   "pygments_lexer": "r",
   "version": "4.1.3"
  }
 },
 "nbformat": 4,
 "nbformat_minor": 5
}
