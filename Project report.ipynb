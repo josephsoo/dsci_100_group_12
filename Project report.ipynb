{
 "cells": [
  {
   "cell_type": "markdown",
   "id": "97b67ce0-494a-4498-9559-3f40e7fbeb67",
   "metadata": {},
   "source": [
    "### Project Report Group 12"
   ]
  },
  {
   "cell_type": "markdown",
   "id": "f1a4dc85-761f-477f-991e-e5f0dd8879d7",
   "metadata": {},
   "source": [
    "Great project and a great proposal layout. I also appreciate ensuring the code is reproducible. Some feedback regarding the different components:\n",
    "\n",
    "Throughout the project, make sure you back up any claims you make (ex. heart disease is the greatest killer in the world) using trusted sources.\n",
    "\n",
    "When conducting your exploratory analysis, I recommend avoiding standardizing your variables. Scaling/centering is necessary when you're building a KNN model with multiple variables. For exploratory analysis, your data loses interpretability once you scale/center.\n",
    "\n",
    "For your graphs, I suggest using boxplots to compare variables in a more obvious manner. While scatter plots are prettier to look at, they can sometimes be less informative/confusing to interpret. Reach out if you have any questions about building/reading boxplots (geom_boxplot). Besides that, I appreciate the visualizations you created. While the histograms are useful, I recommend setting position = \"identity\" and not faceting the plot (unless you're putting one over the other). This allows you to compare the peak/center between individuals with/without heart disease. \n",
    "\n",
    "Again, i recommend not scaling the data at this stage. Also, in your final report, please make sure you spend more time interpreting your graphs in commentary. For example: \"The distribution of ages of individuals diagnosed with heart disease is shifted to the right relative to those with no heart disease (i.e. they're older). Based on this, I believe age is a good predictor for heart disease.\"\n",
    "\n",
    "In your methods, make sure you address how you plan on defining the best value of K. Great job with the rest of the methods section."
   ]
  },
  {
   "cell_type": "markdown",
   "id": "bbe39c8a-6ae1-4a9f-bcad-8ae3d2e5a479",
   "metadata": {},
   "source": [
    "# Title: Heart Disease Prediction"
   ]
  },
  {
   "cell_type": "markdown",
   "id": "f3f88e19-f4a8-4c4e-937d-ea822b331d9c",
   "metadata": {},
   "source": [
    "# Introduction:\n",
    "\n",
    "**Background Information**\n",
    "<br>\n",
    "Heart diseases are a specific group of cardiovascular diseases that refer to conditions specifically affecting the behaviour or structure of the heart. These types of diseases are the leading cause of death across the world (Cardiovascular Diseases, 2019) which explains why diagnosis at an early stage is important so that patients can get immediate treatment. Multiple underlying health conditions and lifestyle choices can increase the likelihood of heart diseases, such as diabetes, and high blood pressure. Some possible symptoms of heart disease are heart attacks, and strokes.\n",
    "\n",
    "**Our Question:**\n",
    "<br>\n",
    "How accurately can we identify whether or not a patient has heart disease based on their age, resting blood pressure, and cholesterol level?\n",
    "\n",
    "This dataset is a combination of 5 smaller datasets including the Cleveland, Hungarian, Switzerland, Stalog (Heart) Data Set, and Long Beach VA datasets all originally sourced from the UCI Machine Learning Repository. It contains information on health factors of patients and whether or not these patients had heart disease."
   ]
  },
  {
   "cell_type": "markdown",
   "id": "96706c01-c0ad-4195-926e-4ac9405a263e",
   "metadata": {},
   "source": [
    "# Methods & Results:"
   ]
  },
  {
   "cell_type": "markdown",
   "id": "7e432f61-0e23-4cdb-94d2-9ec78bb529a3",
   "metadata": {},
   "source": [
    "### Import necessary libraries"
   ]
  },
  {
   "cell_type": "code",
   "execution_count": 1,
   "id": "c17ebeaf-7c0d-4539-bf79-b4853d4a3e87",
   "metadata": {},
   "outputs": [
    {
     "name": "stderr",
     "output_type": "stream",
     "text": [
      "── \u001b[1mAttaching packages\u001b[22m ─────────────────────────────────────── tidyverse 1.3.1 ──\n",
      "\n",
      "\u001b[32m✔\u001b[39m \u001b[34mggplot2\u001b[39m 3.3.6     \u001b[32m✔\u001b[39m \u001b[34mpurrr  \u001b[39m 0.3.4\n",
      "\u001b[32m✔\u001b[39m \u001b[34mtibble \u001b[39m 3.1.7     \u001b[32m✔\u001b[39m \u001b[34mdplyr  \u001b[39m 1.0.9\n",
      "\u001b[32m✔\u001b[39m \u001b[34mtidyr  \u001b[39m 1.2.0     \u001b[32m✔\u001b[39m \u001b[34mstringr\u001b[39m 1.4.0\n",
      "\u001b[32m✔\u001b[39m \u001b[34mreadr  \u001b[39m 2.1.2     \u001b[32m✔\u001b[39m \u001b[34mforcats\u001b[39m 0.5.1\n",
      "\n",
      "── \u001b[1mConflicts\u001b[22m ────────────────────────────────────────── tidyverse_conflicts() ──\n",
      "\u001b[31m✖\u001b[39m \u001b[34mdplyr\u001b[39m::\u001b[32mfilter()\u001b[39m masks \u001b[34mstats\u001b[39m::filter()\n",
      "\u001b[31m✖\u001b[39m \u001b[34mdplyr\u001b[39m::\u001b[32mlag()\u001b[39m    masks \u001b[34mstats\u001b[39m::lag()\n",
      "\n",
      "── \u001b[1mAttaching packages\u001b[22m ────────────────────────────────────── tidymodels 1.0.0 ──\n",
      "\n",
      "\u001b[32m✔\u001b[39m \u001b[34mbroom       \u001b[39m 1.0.0     \u001b[32m✔\u001b[39m \u001b[34mrsample     \u001b[39m 1.0.0\n",
      "\u001b[32m✔\u001b[39m \u001b[34mdials       \u001b[39m 1.0.0     \u001b[32m✔\u001b[39m \u001b[34mtune        \u001b[39m 1.0.0\n",
      "\u001b[32m✔\u001b[39m \u001b[34minfer       \u001b[39m 1.0.2     \u001b[32m✔\u001b[39m \u001b[34mworkflows   \u001b[39m 1.0.0\n",
      "\u001b[32m✔\u001b[39m \u001b[34mmodeldata   \u001b[39m 1.0.0     \u001b[32m✔\u001b[39m \u001b[34mworkflowsets\u001b[39m 1.0.0\n",
      "\u001b[32m✔\u001b[39m \u001b[34mparsnip     \u001b[39m 1.0.0     \u001b[32m✔\u001b[39m \u001b[34myardstick   \u001b[39m 1.0.0\n",
      "\u001b[32m✔\u001b[39m \u001b[34mrecipes     \u001b[39m 1.0.1     \n",
      "\n",
      "── \u001b[1mConflicts\u001b[22m ───────────────────────────────────────── tidymodels_conflicts() ──\n",
      "\u001b[31m✖\u001b[39m \u001b[34mscales\u001b[39m::\u001b[32mdiscard()\u001b[39m masks \u001b[34mpurrr\u001b[39m::discard()\n",
      "\u001b[31m✖\u001b[39m \u001b[34mdplyr\u001b[39m::\u001b[32mfilter()\u001b[39m   masks \u001b[34mstats\u001b[39m::filter()\n",
      "\u001b[31m✖\u001b[39m \u001b[34mrecipes\u001b[39m::\u001b[32mfixed()\u001b[39m  masks \u001b[34mstringr\u001b[39m::fixed()\n",
      "\u001b[31m✖\u001b[39m \u001b[34mdplyr\u001b[39m::\u001b[32mlag()\u001b[39m      masks \u001b[34mstats\u001b[39m::lag()\n",
      "\u001b[31m✖\u001b[39m \u001b[34myardstick\u001b[39m::\u001b[32mspec()\u001b[39m masks \u001b[34mreadr\u001b[39m::spec()\n",
      "\u001b[31m✖\u001b[39m \u001b[34mrecipes\u001b[39m::\u001b[32mstep()\u001b[39m   masks \u001b[34mstats\u001b[39m::step()\n",
      "\u001b[34m•\u001b[39m Use suppressPackageStartupMessages() to eliminate package startup messages\n",
      "\n",
      "\n",
      "Attaching package: ‘gridExtra’\n",
      "\n",
      "\n",
      "The following object is masked from ‘package:dplyr’:\n",
      "\n",
      "    combine\n",
      "\n",
      "\n"
     ]
    }
   ],
   "source": [
    "# import needed libraries\n",
    "library(tidyverse)\n",
    "library(repr)\n",
    "library(tidymodels)\n",
    "library(gridExtra)"
   ]
  },
  {
   "cell_type": "markdown",
   "id": "702fb6ef-64c7-47bd-92ea-79bb884ea9df",
   "metadata": {},
   "source": [
    "#### Load data from source on the web \n",
    "\n",
    "Kaggle page for dataset: https://www.kaggle.com/datasets/fedesoriano/heart-failure-prediction"
   ]
  },
  {
   "cell_type": "code",
   "execution_count": 2,
   "id": "fbe81963-610e-4632-aaee-18e15ac34cec",
   "metadata": {},
   "outputs": [
    {
     "name": "stderr",
     "output_type": "stream",
     "text": [
      "\u001b[1mRows: \u001b[22m\u001b[34m918\u001b[39m \u001b[1mColumns: \u001b[22m\u001b[34m12\u001b[39m\n",
      "\u001b[36m──\u001b[39m \u001b[1mColumn specification\u001b[22m \u001b[36m────────────────────────────────────────────────────────\u001b[39m\n",
      "\u001b[1mDelimiter:\u001b[22m \",\"\n",
      "\u001b[31mchr\u001b[39m (5): Sex, ChestPainType, RestingECG, ExerciseAngina, ST_Slope\n",
      "\u001b[32mdbl\u001b[39m (7): Age, RestingBP, Cholesterol, FastingBS, MaxHR, Oldpeak, HeartDisease\n",
      "\n",
      "\u001b[36mℹ\u001b[39m Use `spec()` to retrieve the full column specification for this data.\n",
      "\u001b[36mℹ\u001b[39m Specify the column types or set `show_col_types = FALSE` to quiet this message.\n"
     ]
    }
   ],
   "source": [
    "# read dataset from web\n",
    "heart <- read_csv(\"https://raw.githubusercontent.com/josephsoo/dsci_100_group_12/main/data/heart.csv\")\n"
   ]
  },
  {
   "cell_type": "markdown",
   "id": "eb1c9bac-19d6-411e-b82e-1741640ffaeb",
   "metadata": {},
   "source": [
    "#### Wrangle and clean the data\n",
    "\n",
    "Below we wrangle and clean the data by turning the HeartDisease column into a factor type and removing the rows\n",
    "where cholesterol = 0.\n",
    "\n",
    "Note: HeartDisease = 0 means the person *does not* have heart disease. HeartDisease = 1 means the person *does* have it."
   ]
  },
  {
   "cell_type": "code",
   "execution_count": 3,
   "id": "b311165d-bf36-4520-be6a-c8eda515e774",
   "metadata": {},
   "outputs": [
    {
     "data": {
      "text/html": [
       "<table class=\"dataframe\">\n",
       "<caption>A tibble: 6 × 12</caption>\n",
       "<thead>\n",
       "\t<tr><th scope=col>Age</th><th scope=col>Sex</th><th scope=col>ChestPainType</th><th scope=col>RestingBP</th><th scope=col>Cholesterol</th><th scope=col>FastingBS</th><th scope=col>RestingECG</th><th scope=col>MaxHR</th><th scope=col>ExerciseAngina</th><th scope=col>Oldpeak</th><th scope=col>ST_Slope</th><th scope=col>HeartDisease</th></tr>\n",
       "\t<tr><th scope=col>&lt;dbl&gt;</th><th scope=col>&lt;chr&gt;</th><th scope=col>&lt;chr&gt;</th><th scope=col>&lt;dbl&gt;</th><th scope=col>&lt;dbl&gt;</th><th scope=col>&lt;dbl&gt;</th><th scope=col>&lt;chr&gt;</th><th scope=col>&lt;dbl&gt;</th><th scope=col>&lt;chr&gt;</th><th scope=col>&lt;dbl&gt;</th><th scope=col>&lt;chr&gt;</th><th scope=col>&lt;fct&gt;</th></tr>\n",
       "</thead>\n",
       "<tbody>\n",
       "\t<tr><td>40</td><td>M</td><td>ATA</td><td>140</td><td>289</td><td>0</td><td>Normal</td><td>172</td><td>N</td><td>0.0</td><td>Up  </td><td>0</td></tr>\n",
       "\t<tr><td>49</td><td>F</td><td>NAP</td><td>160</td><td>180</td><td>0</td><td>Normal</td><td>156</td><td>N</td><td>1.0</td><td>Flat</td><td>1</td></tr>\n",
       "\t<tr><td>37</td><td>M</td><td>ATA</td><td>130</td><td>283</td><td>0</td><td>ST    </td><td> 98</td><td>N</td><td>0.0</td><td>Up  </td><td>0</td></tr>\n",
       "\t<tr><td>48</td><td>F</td><td>ASY</td><td>138</td><td>214</td><td>0</td><td>Normal</td><td>108</td><td>Y</td><td>1.5</td><td>Flat</td><td>1</td></tr>\n",
       "\t<tr><td>54</td><td>M</td><td>NAP</td><td>150</td><td>195</td><td>0</td><td>Normal</td><td>122</td><td>N</td><td>0.0</td><td>Up  </td><td>0</td></tr>\n",
       "\t<tr><td>39</td><td>M</td><td>NAP</td><td>120</td><td>339</td><td>0</td><td>Normal</td><td>170</td><td>N</td><td>0.0</td><td>Up  </td><td>0</td></tr>\n",
       "</tbody>\n",
       "</table>\n"
      ],
      "text/latex": [
       "A tibble: 6 × 12\n",
       "\\begin{tabular}{llllllllllll}\n",
       " Age & Sex & ChestPainType & RestingBP & Cholesterol & FastingBS & RestingECG & MaxHR & ExerciseAngina & Oldpeak & ST\\_Slope & HeartDisease\\\\\n",
       " <dbl> & <chr> & <chr> & <dbl> & <dbl> & <dbl> & <chr> & <dbl> & <chr> & <dbl> & <chr> & <fct>\\\\\n",
       "\\hline\n",
       "\t 40 & M & ATA & 140 & 289 & 0 & Normal & 172 & N & 0.0 & Up   & 0\\\\\n",
       "\t 49 & F & NAP & 160 & 180 & 0 & Normal & 156 & N & 1.0 & Flat & 1\\\\\n",
       "\t 37 & M & ATA & 130 & 283 & 0 & ST     &  98 & N & 0.0 & Up   & 0\\\\\n",
       "\t 48 & F & ASY & 138 & 214 & 0 & Normal & 108 & Y & 1.5 & Flat & 1\\\\\n",
       "\t 54 & M & NAP & 150 & 195 & 0 & Normal & 122 & N & 0.0 & Up   & 0\\\\\n",
       "\t 39 & M & NAP & 120 & 339 & 0 & Normal & 170 & N & 0.0 & Up   & 0\\\\\n",
       "\\end{tabular}\n"
      ],
      "text/markdown": [
       "\n",
       "A tibble: 6 × 12\n",
       "\n",
       "| Age &lt;dbl&gt; | Sex &lt;chr&gt; | ChestPainType &lt;chr&gt; | RestingBP &lt;dbl&gt; | Cholesterol &lt;dbl&gt; | FastingBS &lt;dbl&gt; | RestingECG &lt;chr&gt; | MaxHR &lt;dbl&gt; | ExerciseAngina &lt;chr&gt; | Oldpeak &lt;dbl&gt; | ST_Slope &lt;chr&gt; | HeartDisease &lt;fct&gt; |\n",
       "|---|---|---|---|---|---|---|---|---|---|---|---|\n",
       "| 40 | M | ATA | 140 | 289 | 0 | Normal | 172 | N | 0.0 | Up   | 0 |\n",
       "| 49 | F | NAP | 160 | 180 | 0 | Normal | 156 | N | 1.0 | Flat | 1 |\n",
       "| 37 | M | ATA | 130 | 283 | 0 | ST     |  98 | N | 0.0 | Up   | 0 |\n",
       "| 48 | F | ASY | 138 | 214 | 0 | Normal | 108 | Y | 1.5 | Flat | 1 |\n",
       "| 54 | M | NAP | 150 | 195 | 0 | Normal | 122 | N | 0.0 | Up   | 0 |\n",
       "| 39 | M | NAP | 120 | 339 | 0 | Normal | 170 | N | 0.0 | Up   | 0 |\n",
       "\n"
      ],
      "text/plain": [
       "  Age Sex ChestPainType RestingBP Cholesterol FastingBS RestingECG MaxHR\n",
       "1 40  M   ATA           140       289         0         Normal     172  \n",
       "2 49  F   NAP           160       180         0         Normal     156  \n",
       "3 37  M   ATA           130       283         0         ST          98  \n",
       "4 48  F   ASY           138       214         0         Normal     108  \n",
       "5 54  M   NAP           150       195         0         Normal     122  \n",
       "6 39  M   NAP           120       339         0         Normal     170  \n",
       "  ExerciseAngina Oldpeak ST_Slope HeartDisease\n",
       "1 N              0.0     Up       0           \n",
       "2 N              1.0     Flat     1           \n",
       "3 N              0.0     Up       0           \n",
       "4 Y              1.5     Flat     1           \n",
       "5 N              0.0     Up       0           \n",
       "6 N              0.0     Up       0           "
      ]
     },
     "metadata": {},
     "output_type": "display_data"
    }
   ],
   "source": [
    "# clean and wrangle into tidy format\n",
    "# by turning HeartDisease in a factor type and \n",
    "# removing rows where cholesterol = 0\n",
    "heart_clean <- mutate(heart, HeartDisease = as_factor(HeartDisease)) |> filter(Cholesterol != 0)\n",
    "head(heart_clean)\n"
   ]
  },
  {
   "cell_type": "markdown",
   "id": "79ce200e-c38c-4763-b22a-a2be8972aa57",
   "metadata": {},
   "source": [
    "Table 1"
   ]
  },
  {
   "cell_type": "markdown",
   "id": "95c410c4-23b8-4f80-95f1-0ccf60a70720",
   "metadata": {},
   "source": [
    "We will be using 3 predictors: Cholesterol, Resting BP (blood pressure), and Age. Therefore, we will only select the releveant columns. More reasons as to why we chose these 3 can be found later on in the report."
   ]
  },
  {
   "cell_type": "code",
   "execution_count": 4,
   "id": "bbbb623b-2876-48bd-b2fb-758ec0430c20",
   "metadata": {},
   "outputs": [
    {
     "data": {
      "text/html": [
       "<table class=\"dataframe\">\n",
       "<caption>A tibble: 6 × 4</caption>\n",
       "<thead>\n",
       "\t<tr><th scope=col>Age</th><th scope=col>RestingBP</th><th scope=col>Cholesterol</th><th scope=col>HeartDisease</th></tr>\n",
       "\t<tr><th scope=col>&lt;dbl&gt;</th><th scope=col>&lt;dbl&gt;</th><th scope=col>&lt;dbl&gt;</th><th scope=col>&lt;fct&gt;</th></tr>\n",
       "</thead>\n",
       "<tbody>\n",
       "\t<tr><td>40</td><td>140</td><td>289</td><td>0</td></tr>\n",
       "\t<tr><td>49</td><td>160</td><td>180</td><td>1</td></tr>\n",
       "\t<tr><td>37</td><td>130</td><td>283</td><td>0</td></tr>\n",
       "\t<tr><td>48</td><td>138</td><td>214</td><td>1</td></tr>\n",
       "\t<tr><td>54</td><td>150</td><td>195</td><td>0</td></tr>\n",
       "\t<tr><td>39</td><td>120</td><td>339</td><td>0</td></tr>\n",
       "</tbody>\n",
       "</table>\n"
      ],
      "text/latex": [
       "A tibble: 6 × 4\n",
       "\\begin{tabular}{llll}\n",
       " Age & RestingBP & Cholesterol & HeartDisease\\\\\n",
       " <dbl> & <dbl> & <dbl> & <fct>\\\\\n",
       "\\hline\n",
       "\t 40 & 140 & 289 & 0\\\\\n",
       "\t 49 & 160 & 180 & 1\\\\\n",
       "\t 37 & 130 & 283 & 0\\\\\n",
       "\t 48 & 138 & 214 & 1\\\\\n",
       "\t 54 & 150 & 195 & 0\\\\\n",
       "\t 39 & 120 & 339 & 0\\\\\n",
       "\\end{tabular}\n"
      ],
      "text/markdown": [
       "\n",
       "A tibble: 6 × 4\n",
       "\n",
       "| Age &lt;dbl&gt; | RestingBP &lt;dbl&gt; | Cholesterol &lt;dbl&gt; | HeartDisease &lt;fct&gt; |\n",
       "|---|---|---|---|\n",
       "| 40 | 140 | 289 | 0 |\n",
       "| 49 | 160 | 180 | 1 |\n",
       "| 37 | 130 | 283 | 0 |\n",
       "| 48 | 138 | 214 | 1 |\n",
       "| 54 | 150 | 195 | 0 |\n",
       "| 39 | 120 | 339 | 0 |\n",
       "\n"
      ],
      "text/plain": [
       "  Age RestingBP Cholesterol HeartDisease\n",
       "1 40  140       289         0           \n",
       "2 49  160       180         1           \n",
       "3 37  130       283         0           \n",
       "4 48  138       214         1           \n",
       "5 54  150       195         0           \n",
       "6 39  120       339         0           "
      ]
     },
     "metadata": {},
     "output_type": "display_data"
    }
   ],
   "source": [
    "heart_clean <- select(heart_clean, Age, RestingBP, Cholesterol, HeartDisease)\n",
    "head(heart_clean)"
   ]
  },
  {
   "cell_type": "markdown",
   "id": "fa468c00-9077-41a3-a748-c76e17e41dae",
   "metadata": {},
   "source": [
    "Table 2"
   ]
  },
  {
   "cell_type": "markdown",
   "id": "ae5fe09a-e1ab-4493-afbc-1fff65c3c90a",
   "metadata": {},
   "source": [
    "#### Split the data\n",
    "\n",
    "We will now split the data into training and testing sets. 75% of the data will be used for training and 25% will be used for testing.\n",
    "\n",
    "We have also set the seed to allow for reproducible results."
   ]
  },
  {
   "cell_type": "code",
   "execution_count": 6,
   "id": "a0b9ddc4-c511-480f-954c-e5e092985b66",
   "metadata": {},
   "outputs": [],
   "source": [
    "set.seed(3456) \n",
    "\n",
    "# splitting data 75% = training, 25% = testing\n",
    "heart_split <- initial_split(heart_clean, prop = 0.75, strata = HeartDisease)  \n",
    "heart_train <- training(heart_split)   \n",
    "heart_test <- testing(heart_split)"
   ]
  },
  {
   "cell_type": "markdown",
   "id": "16f4aa5e-0d38-49cf-ba80-fe83a5fb6e1a",
   "metadata": {},
   "source": [
    "### Creating tables to summarize the training data\n",
    "\n",
    "We have made tables showing the number of observations in each class and showing the mean of each predictor to analyze/summarize the data."
   ]
  },
  {
   "cell_type": "code",
   "execution_count": 7,
   "id": "41f45f9c-88f0-41c3-9c78-a0f35116bab4",
   "metadata": {},
   "outputs": [
    {
     "data": {
      "text/html": [
       "<table class=\"dataframe\">\n",
       "<caption>A tibble: 2 × 2</caption>\n",
       "<thead>\n",
       "\t<tr><th scope=col>HeartDisease</th><th scope=col>n</th></tr>\n",
       "\t<tr><th scope=col>&lt;fct&gt;</th><th scope=col>&lt;int&gt;</th></tr>\n",
       "</thead>\n",
       "<tbody>\n",
       "\t<tr><td>0</td><td>292</td></tr>\n",
       "\t<tr><td>1</td><td>267</td></tr>\n",
       "</tbody>\n",
       "</table>\n"
      ],
      "text/latex": [
       "A tibble: 2 × 2\n",
       "\\begin{tabular}{ll}\n",
       " HeartDisease & n\\\\\n",
       " <fct> & <int>\\\\\n",
       "\\hline\n",
       "\t 0 & 292\\\\\n",
       "\t 1 & 267\\\\\n",
       "\\end{tabular}\n"
      ],
      "text/markdown": [
       "\n",
       "A tibble: 2 × 2\n",
       "\n",
       "| HeartDisease &lt;fct&gt; | n &lt;int&gt; |\n",
       "|---|---|\n",
       "| 0 | 292 |\n",
       "| 1 | 267 |\n",
       "\n"
      ],
      "text/plain": [
       "  HeartDisease n  \n",
       "1 0            292\n",
       "2 1            267"
      ]
     },
     "metadata": {},
     "output_type": "display_data"
    }
   ],
   "source": [
    "# number of observations in each class of heart disease\n",
    "heart_disease_count <- heart_train |> group_by(HeartDisease) |> summarize(n = n())\n",
    "heart_disease_count"
   ]
  },
  {
   "cell_type": "markdown",
   "id": "5592e93a-4676-43a0-a04f-208c2eb8918b",
   "metadata": {},
   "source": [
    "Table 3\n",
    "\n",
    "We can see from table 3 that the split between people with and without heart disease is generally pretty even (52% of data is people without, and 48% is people with). "
   ]
  },
  {
   "cell_type": "code",
   "execution_count": 8,
   "id": "16c4f42b-97e0-4f13-8a86-aa85c5074c65",
   "metadata": {},
   "outputs": [
    {
     "data": {
      "text/html": [
       "<table class=\"dataframe\">\n",
       "<caption>A tibble: 1 × 3</caption>\n",
       "<thead>\n",
       "\t<tr><th scope=col>Age_mean</th><th scope=col>RestingBP_mean</th><th scope=col>Cholesterol_mean</th></tr>\n",
       "\t<tr><th scope=col>&lt;dbl&gt;</th><th scope=col>&lt;dbl&gt;</th><th scope=col>&lt;dbl&gt;</th></tr>\n",
       "</thead>\n",
       "<tbody>\n",
       "\t<tr><td>53.23077</td><td>133.5063</td><td>244.6869</td></tr>\n",
       "</tbody>\n",
       "</table>\n"
      ],
      "text/latex": [
       "A tibble: 1 × 3\n",
       "\\begin{tabular}{lll}\n",
       " Age\\_mean & RestingBP\\_mean & Cholesterol\\_mean\\\\\n",
       " <dbl> & <dbl> & <dbl>\\\\\n",
       "\\hline\n",
       "\t 53.23077 & 133.5063 & 244.6869\\\\\n",
       "\\end{tabular}\n"
      ],
      "text/markdown": [
       "\n",
       "A tibble: 1 × 3\n",
       "\n",
       "| Age_mean &lt;dbl&gt; | RestingBP_mean &lt;dbl&gt; | Cholesterol_mean &lt;dbl&gt; |\n",
       "|---|---|---|\n",
       "| 53.23077 | 133.5063 | 244.6869 |\n",
       "\n"
      ],
      "text/plain": [
       "  Age_mean RestingBP_mean Cholesterol_mean\n",
       "1 53.23077 133.5063       244.6869        "
      ]
     },
     "metadata": {},
     "output_type": "display_data"
    }
   ],
   "source": [
    "# averages of each predictor variable\n",
    "predictor_means <- heart_train |> select(-HeartDisease) |> map_df(mean)\n",
    "colnames(predictor_means) <- c(\"Age_mean\", \"RestingBP_mean\", \"Cholesterol_mean\")\n",
    "predictor_means"
   ]
  },
  {
   "cell_type": "markdown",
   "id": "7c1630d5-4e64-48c5-b73c-fa0992f73f5c",
   "metadata": {},
   "source": [
    "Table 4"
   ]
  },
  {
   "cell_type": "markdown",
   "id": "4177ad42-9f90-4f51-b822-a984cb54be5c",
   "metadata": {},
   "source": [
    "The KNN model is sensitive to the scale of the data, so, if we were to not standardize our data, larger scaled predictors would be considered more strongly, when we want to consider them around equally. As we can see from table 3, cholesterol has a much larger scale than age. As a result, we can see that when we run our KNN classification, we should standardize the data."
   ]
  },
  {
   "cell_type": "markdown",
   "id": "34c6d31a-c0a1-42e5-ab49-cce25b5a0fc2",
   "metadata": {},
   "source": [
    "## Creating data visualizations of the training data\n",
    "\n"
   ]
  },
  {
   "cell_type": "markdown",
   "id": "d855d9ec-24aa-4783-8dfa-bbaec3e97989",
   "metadata": {},
   "source": [
    "#### Histograms\n",
    "\n",
    "Overall, we can see an underlying trend where the people with no heart disease lie on the left side of these histograms (low age, resting bp, and cholesterol), while the people with heart disease lie on the right side."
   ]
  },
  {
   "cell_type": "code",
   "execution_count": null,
   "id": "482ea811-ac44-4108-bf05-559fc0be5c17",
   "metadata": {},
   "outputs": [],
   "source": [
    "options(repr.plot.width = 20, repr.plot.height = 4)\n",
    "\n",
    "bp_histo <- heart_train |> ggplot(aes(x = RestingBP, fill = HeartDisease)) +\n",
    "    geom_histogram(position = \"identity\", binwidth = 20, alpha = 0.75) +\n",
    "    labs(title = \"RestingBP Histogram\")\n",
    "\n",
    "cholesterol_histo <- heart_train |> ggplot(aes(x = Cholesterol, fill = HeartDisease)) +\n",
    "    geom_histogram(position = \"identity\", binwidth = 10, alpha = 0.75) +\n",
    "    labs(title = \"Cholesterol Histogram\")\n",
    "\n",
    "\n",
    "age_histo <- heart_train |> ggplot(aes(x = Age, fill = HeartDisease)) +\n",
    "    geom_histogram(position = \"identity\", binwidth = 8, alpha = 0.75) +\n",
    "    labs(title = \"Age Histogram\")\n",
    "\n",
    "\n",
    "\n",
    "bp_histo\n",
    "cholesterol_histo\n",
    "age_histo"
   ]
  },
  {
   "cell_type": "markdown",
   "id": "3ca1f40c-09ef-46a8-965b-37eccb1c5ef7",
   "metadata": {},
   "source": [
    "#### Box plots"
   ]
  },
  {
   "cell_type": "markdown",
   "id": "0ad964a8-7068-4940-9cc3-35a65fc668b6",
   "metadata": {},
   "source": [
    "The findings found with histrograms are reinforced by the boxplots. As we can see in the boxplots, the mean of the variables for people with heart disease is higher than those without. Of the boxplots, we can see that age has the least overlap in standard deviations, which may indicate that age is a very strong predictor for heart"
   ]
  },
  {
   "cell_type": "code",
   "execution_count": null,
   "id": "c9c1a2fb-5068-4320-b61c-dd86c8e74aad",
   "metadata": {},
   "outputs": [],
   "source": [
    "cholesterol_box <- heart_train |> ggplot(aes(x = Cholesterol, fill = HeartDisease)) +\n",
    "    geom_boxplot()\n",
    "\n",
    "\n",
    "bp_box <- heart_train |> ggplot(aes(x = RestingBP, fill = HeartDisease)) +\n",
    "    geom_boxplot() \n",
    "\n",
    "age_box <- heart_train |> ggplot(aes(x = Age, fill = HeartDisease)) +\n",
    "    geom_boxplot()\n",
    "\n",
    "cholesterol_box\n",
    "bp_box\n",
    "age_box"
   ]
  },
  {
   "cell_type": "markdown",
   "id": "6d27a7d3-61e1-403c-a030-0930bda421f7",
   "metadata": {},
   "source": [
    "## Predictions:"
   ]
  },
  {
   "cell_type": "code",
   "execution_count": null,
   "id": "694525dd-7875-4a42-8ded-1727260cf023",
   "metadata": {},
   "outputs": [],
   "source": [
    "set.seed(42)\n",
    "heart_vfold <- vfold_cv(heart_train, v = 10, strata = HeartDisease)\n",
    "\n",
    "##(3)##\n",
    "heart_recipe <- recipe(HeartDisease ~ Cholesterol + RestingBP + Age, data = heart_train) |>\n",
    "  step_scale(all_predictors()) |>\n",
    "  step_center(all_predictors())\n",
    "\n",
    "##(4)##\n",
    "knn_spec <- nearest_neighbor(weight_func = \"rectangular\", neighbors = tune()) |>\n",
    "  set_engine(\"kknn\") |>\n",
    "  set_mode(\"classification\")\n",
    "\n",
    "gridvals <- tibble(neighbors = seq(1, 25))\n",
    "\n",
    "\n",
    "knn_results <- workflow() |>\n",
    "  add_recipe(heart_recipe) |>\n",
    "  add_model(knn_spec) |>\n",
    "  tune_grid(resamples = heart_vfold, grid = gridvals) |>\n",
    "  collect_metrics() |>\n",
    "  filter(.metric == \"accuracy\")\n",
    "\n",
    "# Plotting k values against their respective accuracies and choose optimal k value\n",
    "cross_val_plot <- knn_results |> \n",
    "    ggplot(aes(x = neighbors, y = mean)) +\n",
    "    geom_point() +\n",
    "    geom_line() +\n",
    "    labs(x = \"Neighbors\", y = \"Accuracy Estimate\") +\n",
    "    theme(text = element_text(size = 20))\n",
    "\n",
    "cross_val_plot"
   ]
  },
  {
   "cell_type": "markdown",
   "id": "8f468da5-d247-4499-b717-5f414c167e17",
   "metadata": {},
   "source": [
    "As we can see from the above accuracy vs neigbors plot, k = 13 (13 neighbors) has a very high accuracy. Therefore, we chose to use neighbors = 13"
   ]
  },
  {
   "cell_type": "code",
   "execution_count": null,
   "id": "7491de29-6745-4e68-b3fb-78b12a99fd37",
   "metadata": {},
   "outputs": [],
   "source": [
    "knn_best_spec <- nearest_neighbor(weight_func = \"rectangular\", neighbors = 13) |>\n",
    "  set_engine(\"kknn\") |>\n",
    "  set_mode(\"classification\")\n",
    "\n",
    "heart_fit <- workflow() |>\n",
    "  add_recipe(heart_recipe) |>\n",
    "  add_model(knn_best_spec) |>\n",
    "  fit(data = heart_train)\n",
    "  \n",
    "heart_predictions <- predict(heart_fit, heart_test) |> \n",
    "    bind_cols(heart_test)\n",
    "\n",
    "# Comparing the accuracy of predictions to the data in the test set\n",
    "heart_acc <- heart_predictions |> \n",
    "    metrics(truth = HeartDisease, estimate = .pred_class) |> \n",
    "    select(.metric, .estimate) |> \n",
    "    head(1)\n",
    "\n",
    "heart_acc\n",
    "\n",
    "# Comparing the predictions to the real values in a confusion matrix\n",
    "heart_cm <- heart_predictions |> \n",
    "    conf_mat(truth = HeartDisease, estimate = .pred_class)\n",
    "\n",
    "heart_cm"
   ]
  },
  {
   "cell_type": "markdown",
   "id": "21a9c99e-fdda-4730-b65a-a604653bbf87",
   "metadata": {
    "tags": []
   },
   "source": [
    "## Discussion:"
   ]
  },
  {
   "cell_type": "markdown",
   "id": "66f3213c-05f2-40cd-ab39-906d3d843dac",
   "metadata": {
    "tags": []
   },
   "source": [
    "## References"
   ]
  },
  {
   "cell_type": "markdown",
   "id": "74972f58-ba0d-47b2-9b61-8b9483ade089",
   "metadata": {},
   "source": [
    "Cardiovascular diseases. (2019, June 11). World Health Organization. https://www.who.int/health-topics/cardiovascular-diseases"
   ]
  },
  {
   "cell_type": "code",
   "execution_count": null,
   "id": "cd9c40ef-8ed9-4587-9e6e-6380bc070ebb",
   "metadata": {},
   "outputs": [],
   "source": []
  }
 ],
 "metadata": {
  "kernelspec": {
   "display_name": "R",
   "language": "R",
   "name": "ir"
  },
  "language_info": {
   "codemirror_mode": "r",
   "file_extension": ".r",
   "mimetype": "text/x-r-source",
   "name": "R",
   "pygments_lexer": "r",
   "version": "4.1.3"
  }
 },
 "nbformat": 4,
 "nbformat_minor": 5
}
