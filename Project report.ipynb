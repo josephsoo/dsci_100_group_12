{
 "cells": [
  {
   "cell_type": "markdown",
   "id": "97b67ce0-494a-4498-9559-3f40e7fbeb67",
   "metadata": {},
   "source": [
    "### Project Report Group 12"
   ]
  },
  {
   "cell_type": "code",
   "execution_count": null,
   "id": "ea17f4ec-3543-4837-86a7-9e508d9a3d86",
   "metadata": {},
   "outputs": [],
   "source": []
  }
 ],
 "metadata": {
  "kernelspec": {
   "display_name": "R",
   "language": "R",
   "name": "ir"
  },
  "language_info": {
   "codemirror_mode": "r",
   "file_extension": ".r",
   "mimetype": "text/x-r-source",
   "name": "R",
   "pygments_lexer": "r",
   "version": "4.1.3"
  }
 },
 "nbformat": 4,
 "nbformat_minor": 5
}
