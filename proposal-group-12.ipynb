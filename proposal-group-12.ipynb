{
 "cells": [
  {
   "cell_type": "markdown",
   "id": "c1253600-456b-4afe-aadf-300f828189d5",
   "metadata": {},
   "source": [
    "Title"
   ]
  },
  {
   "cell_type": "markdown",
   "id": "e87f6851-f72c-436e-ab81-bf03190b588e",
   "metadata": {},
   "source": [
    "Introduction:\n",
    "\n",
    "    Provide some relevant background information on the topic so that someone unfamiliar with it will be prepared to understand the rest of your proposal\n",
    "    Clearly state the question you will try to answer with your project\n",
    "    Identify and describe the dataset that will be used to answer the question\n",
    "\n"
   ]
  },
  {
   "cell_type": "markdown",
   "id": "9a700ab7-9969-4414-8b23-e2f4270938c5",
   "metadata": {},
   "source": [
    "Preliminary exploratory data analysis:\n",
    "\n",
    "    Demonstrate that the dataset can be read from the web into R \n",
    "    Clean and wrangle your data into a tidy format\n",
    "    Using only training data, summarize the data in at least one table (this is exploratory data analysis). An example of a useful table could be one that reports the number of observations in each class, the means of the predictor variables you plan to use in your analysis and how many rows have missing data. \n",
    "    Using only training data, visualize the data with at least one plot relevant to the analysis you plan to do (this is exploratory data analysis). An example of a useful visualization could be one that compares the distributions of each of the predictor variables you plan to use in your analysis.\n",
    "\n"
   ]
  },
  {
   "cell_type": "markdown",
   "id": "285782a3-ecc3-4d52-88ae-06315f17d738",
   "metadata": {},
   "source": [
    "Methods:\n",
    "\n",
    "    Explain how you will conduct either your data analysis and which variables/columns you will use. Note - you do not need to use all variables/columns that exist in the raw data set. In fact, that's often not a good idea. For each variable think: is this a useful variable for prediction?\n",
    "    Describe at least one way that you will visualize the results\n",
    "\n"
   ]
  },
  {
   "cell_type": "markdown",
   "id": "f42e0399-3ea8-4fbf-be78-c680122fdbb7",
   "metadata": {},
   "source": [
    "Expected outcomes and significance:\n",
    "\n",
    "    What do you expect to find?\n",
    "    What impact could such findings have?\n",
    "    What future questions could this lead to?\n",
    "\n"
   ]
  }
 ],
 "metadata": {
  "kernelspec": {
   "display_name": "R",
   "language": "R",
   "name": "ir"
  },
  "language_info": {
   "codemirror_mode": "r",
   "file_extension": ".r",
   "mimetype": "text/x-r-source",
   "name": "R",
   "pygments_lexer": "r",
   "version": "4.1.3"
  }
 },
 "nbformat": 4,
 "nbformat_minor": 5
}
