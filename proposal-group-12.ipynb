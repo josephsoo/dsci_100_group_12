{
 "cells": [
  {
   "cell_type": "markdown",
   "id": "c1253600-456b-4afe-aadf-300f828189d5",
   "metadata": {},
   "source": [
    "## Heart Disease Prediction"
   ]
  },
  {
   "cell_type": "markdown",
   "id": "e87f6851-f72c-436e-ab81-bf03190b588e",
   "metadata": {},
   "source": [
    "## Introduction:\n",
    "\n",
    "**Background Information**\n",
    "<br>\n",
    "Cardiovascular diseases affect a person's heart or blood vessels. These types of diseases are the leading cause of death across the world which explains why diagnosis at an early stage is important so that patients can get imediate treatment. Heart diseases are a specific group of cardiovascular diseases that refer to conditions specifically affecting the behaviour or structure of the heart. Multiple underlying health conditions and lifestyle choices can increase the likelihood of heart diseases, such as diabetes, obesity, high cholesterol, and high blood pressure. Some possible symptoms of heart disease are heart attacks, heart failure, chest pain, and strokes.\n",
    "\n",
    "**Our Question:**\n",
    "<br>\n",
    "How accurately can we identify whether or not a patient has heart disease based on their age, resting blood pressure, and cholesterol level?\n",
    "\n",
    "\n",
    "\n",
    "This dataset is a combination of 5 smaller datasets including the Cleveland, Hungarian, Switzerland, Stalog (Heart) Data Set, and Long Beach VA datasets all originally sourced from the UCI Machine Learning Repository. It contains information on health factors of patients and whether or not these patients had heart disease. Important factors that this dataset include are the patients' age, cholesterol level, and resting blood pressure level.\n",
    "\n"
   ]
  },
  {
   "cell_type": "markdown",
   "id": "9a700ab7-9969-4414-8b23-e2f4270938c5",
   "metadata": {},
   "source": [
    "## Preliminary exploratory data analysis:"
   ]
  },
  {
   "cell_type": "code",
   "execution_count": null,
   "id": "ec41e42c-8eb0-48a5-942f-e109ad132a12",
   "metadata": {},
   "outputs": [],
   "source": [
    "# import needed libraries\n",
    "library(tidyverse)\n",
    "library(repr)\n",
    "library(tidymodels)\n",
    "library(gridExtra)"
   ]
  },
  {
   "cell_type": "markdown",
   "id": "126ac6cc-4f67-4a71-abde-4564c487f17e",
   "metadata": {
    "tags": []
   },
   "source": [
    "## Reading and scaling the data"
   ]
  },
  {
   "cell_type": "code",
   "execution_count": null,
   "id": "f535ca41-8635-449e-b01d-5908ce216ea7",
   "metadata": {},
   "outputs": [],
   "source": [
    "# read dataset from web\n",
    "heart <- read_csv(\"https://raw.githubusercontent.com/josephsoo/dsci_100_group_12/main/data/heart.csv\")\n",
    "\n",
    "\n",
    "# clean and wrangle into tidy format\n",
    "# by turning HeartDisease in a factor type and \n",
    "# removing rows where cholesterol = 0\n",
    "heart <- mutate(heart, HeartDisease = as_factor(HeartDisease)) |> filter(Cholesterol != 0)\n",
    "head(heart)\n",
    "\n",
    "# for reference: 1 = has heart disease, 0 = does not have heart disease\n",
    "\n",
    "# scale the dataset and select relevant variables\n",
    "heart_scaled <- heart|>\n",
    "    mutate(scaled_Cholesterol = scale(Cholesterol, center = TRUE),\n",
    "        scaled_RestingBP = scale(RestingBP, center = TRUE),\n",
    "        scaled_Age = scale(Age, center = TRUE))|>\n",
    "    select(HeartDisease, scaled_Cholesterol, scaled_RestingBP, scaled_Age)\n",
    "\n",
    "head(heart_scaled)"
   ]
  },
  {
   "cell_type": "markdown",
   "id": "83a332dd-b2ff-405f-80a5-161c5493e0d4",
   "metadata": {},
   "source": [
    "## Splitting the data"
   ]
  },
  {
   "cell_type": "code",
   "execution_count": null,
   "id": "d411384e-f1b3-47bc-8d4a-3c5668a84885",
   "metadata": {},
   "outputs": [],
   "source": [
    "set.seed(3456) \n",
    "\n",
    "heart_split <- initial_split(heart_scaled, prop = 0.75, strata = HeartDisease)  \n",
    "heart_train <- training(heart_split)   \n",
    "heart_test <- testing(heart_split)"
   ]
  },
  {
   "cell_type": "markdown",
   "id": "4024d872-f715-4546-9cf7-a12c39ab7e6a",
   "metadata": {},
   "source": [
    "## Creating tables to summarize the training data"
   ]
  },
  {
   "cell_type": "code",
   "execution_count": null,
   "id": "c32286d4-cd06-40e8-88e1-d8ae7287b832",
   "metadata": {},
   "outputs": [],
   "source": [
    "# Using only training data, summarize the data in at least one table (this is exploratory data analysis). \n",
    "# An example of a useful table could be one that reports the number of observations in each class, \n",
    "# the means of the predictor variables you plan to use in your analysis and how many rows have missing data. \n",
    "\n",
    "# number of observations in each class of heart disease\n",
    "heart_disease_count <- heart_train |> group_by(HeartDisease) |> summarize(n = n())\n",
    "heart_disease_count\n",
    "\n",
    "# averages of each predictor variable\n",
    "predictor_means <- heart_train |> select(-HeartDisease) |> map_df(mean)\n",
    "colnames(predictor_means) <- c(\"scaled_Cholesterol_mean\", \"scaled_RestingBP_mean\", \"scaled_Age_mean\")\n",
    "predictor_means"
   ]
  },
  {
   "cell_type": "markdown",
   "id": "aa4af30a-4a97-49c8-bd00-858da6933141",
   "metadata": {},
   "source": [
    "## Creating data visualizations of the training data\n",
    "\n",
    "We have made 3 scatter plots which show the distribution and relationship between all combinations of our predictor variables. The reason why we used only 2D visualizations is because 3D visualizations can be confusing and hard to look at and determine relationships. These plots allow us to see if there are any general patterns in the data, as well as compare the distributions of predictor variables"
   ]
  },
  {
   "cell_type": "code",
   "execution_count": null,
   "id": "edd65622-a6bd-47fe-8f92-f5747410f505",
   "metadata": {},
   "outputs": [],
   "source": [
    "# Using only training data, visualize the data with at least one plot relevant to the analysis you plan to do \n",
    "# (this is exploratory data analysis). An example of a useful visualization could be one that compares the \n",
    "# distributions of each of the predictor variables you plan to use in your analysis.\n",
    "options(repr.plot.width = 20, repr.plot.height = 8)\n",
    "\n",
    "cholesterol_resting_bp_plot <- heart_train |> ggplot(aes(x = scaled_Cholesterol, y = scaled_RestingBP, color = HeartDisease)) +\n",
    "    geom_point() +\n",
    "    labs(x = \"Scaled Cholesterol\", y = \"Scaled Resting Blood Pressure\", color = \"Heart Disease\", title = \"Cholesterol vs Resting Blood Pressure\")\n",
    "\n",
    "cholesterol_age_plot <- heart_train |> ggplot(aes(x = scaled_Cholesterol, y = scaled_Age, color = HeartDisease)) +\n",
    "    geom_point() +\n",
    "    labs(x = \"Scaled Cholesterol\", y = \"Scaled Age\", color = \"Heart Disease\", title = \"Cholesterol vs Age\")\n",
    "\n",
    "resting_bp_age_plot <- heart_train |> ggplot(aes(x = scaled_RestingBP, y = scaled_Age, color = HeartDisease)) +\n",
    "    geom_point() +\n",
    "    labs(x = \"Scaled Resting Blood Pressure\", y = \"Scaled Age\", color = \"Heart Disease\", title = \"Resting Blood Pressure vs Age\")\n",
    "\n",
    "grid.arrange(cholesterol_resting_bp_plot, cholesterol_age_plot, resting_bp_age_plot, ncol=3)"
   ]
  },
  {
   "cell_type": "markdown",
   "id": "323a32b5-179e-4e39-98de-fe307c52248e",
   "metadata": {},
   "source": [
    "## Distribution of predictors\n",
    "\n",
    "We can also visualize the distribution of each predictor variable using histograms to see how the data we are working with looks like."
   ]
  },
  {
   "cell_type": "code",
   "execution_count": null,
   "id": "0833fd44-a231-4bd6-9928-b60e7d48b597",
   "metadata": {},
   "outputs": [],
   "source": [
    "cholesterol_plot <- heart_train |> ggplot(aes(x = scaled_Cholesterol)) +\n",
    "    geom_histogram() +\n",
    "    labs(x = \"Scaled Cholesterol\", y = \"Count\") +\n",
    "    theme(text = element_text(size=20))\n",
    "\n",
    "resting_bp_plot <- heart_train |> ggplot(aes(x = scaled_RestingBP)) +\n",
    "    geom_histogram() +\n",
    "    labs(x = \"Scaled Resting Blood Pressure\", y = \"Count\") +\n",
    "    theme(text = element_text(size=20))\n",
    "\n",
    "age_plot <- heart_train |> ggplot(aes(x = scaled_Age)) +\n",
    "    geom_histogram() +\n",
    "    labs(x = \"Scaled Age\", y = \"Count\") +\n",
    "    theme(text = element_text(size=20))\n",
    "\n",
    "cholesterol_plot\n",
    "resting_bp_plot\n",
    "age_plot"
   ]
  },
  {
   "cell_type": "markdown",
   "id": "80afa13b-fc2b-4a10-8634-f513517349e7",
   "metadata": {
    "tags": []
   },
   "source": [
    "## Balancing"
   ]
  },
  {
   "cell_type": "markdown",
   "id": "40ccecf1-dabe-4697-aef5-ad916046d512",
   "metadata": {},
   "source": [
    "Here, we are graphing the distribution of the classifier (Heart disease == 1 or 0)"
   ]
  },
  {
   "cell_type": "code",
   "execution_count": null,
   "id": "b5632c59-4244-48e4-be91-6b2a329765b2",
   "metadata": {},
   "outputs": [],
   "source": [
    "heart_train_count <- heart |>\n",
    "group_by(HeartDisease) |>\n",
    "summarize(n = n()) |>\n",
    "ggplot(aes(x = HeartDisease, y = n))+\n",
    "geom_bar(stat = \"identity\")\n",
    "\n",
    "heart_train_count\n",
    "\n"
   ]
  },
  {
   "cell_type": "markdown",
   "id": "22079434-ea3b-4f08-9cd0-c8646c442367",
   "metadata": {},
   "source": [
    "Because there are close to equal observations of each class, we should not need to worry about class imbalance"
   ]
  },
  {
   "cell_type": "markdown",
   "id": "285782a3-ecc3-4d52-88ae-06315f17d738",
   "metadata": {},
   "source": [
    "## Methods:"
   ]
  },
  {
   "cell_type": "markdown",
   "id": "bdabae96-d87c-462f-bfcc-33fc1debe203",
   "metadata": {},
   "source": [
    "**Variables For Analysis**\n",
    "<br>\n",
    "We have 3 potential predictors:\n",
    "- Age\n",
    "- Cholestrol \n",
    "- Resting Blood Pressure\n",
    "\n",
    "and the variable we are predicting is:\n",
    "- Heart Disease\n",
    "\n",
    "\n",
    "**Method and Rationale**\n",
    "<br>\n",
    "Using all the variables in a data set is rarely a good idea in classification problems. \n",
    "Therefore, we are going to determine which subset of predictors offers the best performance to our model. One way of doing so is to iteratively build up a model by adding predictors over each iteration. This is known as forward selection.\n",
    "\n",
    "Once we have found the subset of predictors which gives us the highest accuracy, we will create a classification model using that subset with the best k value. \n",
    "\n",
    "Some ways we can visualize the results:\n",
    "- line graph of accuracy vs number of predictors\n",
    "- scatter plot with background color of predicted class"
   ]
  },
  {
   "cell_type": "markdown",
   "id": "47330fed-3780-4355-a0a0-a0528db12fd0",
   "metadata": {},
   "source": [
    "**Interpretation:**\n",
    "<br>\n",
    "As shown by the forward selection algorithm, we can see that the most accurate configuration for the model utilizes all three predictors. Therefore, through the forward selection algorithm, we have arrived at a conclusion for our model using a systematic science based approach. "
   ]
  },
  {
   "cell_type": "markdown",
   "id": "f42e0399-3ea8-4fbf-be78-c680122fdbb7",
   "metadata": {},
   "source": [
    "## Expected outcomes and significance:\n",
    "\n",
    "**What do you expect to find?**\n",
    "- In this project, we expect to be able to use the predictors Age, Cholestreol, and resting blood pressure to answer the question: Will someone have heart disease?\n",
    "\n",
    "**What impact could such findings have?**\n",
    "\n",
    "- By knowing if someone will ahve heart disease, we could be able to take note of people at risk and monitor them more closely. This might allow people who may be at risk for heart disease to recieve treatment before it become too late\n",
    "\n",
    "**What future questions could this lead to?**\n",
    "\n",
    "- If could we identify factors that make people more likely to get heart disease, could we then be able to change the lifestyle of the person to change the chance of them getting heart disease?\n",
    "\n"
   ]
  }
 ],
 "metadata": {
  "kernelspec": {
   "display_name": "R",
   "language": "R",
   "name": "ir"
  },
  "language_info": {
   "codemirror_mode": "r",
   "file_extension": ".r",
   "mimetype": "text/x-r-source",
   "name": "R",
   "pygments_lexer": "r",
   "version": "4.1.3"
  }
 },
 "nbformat": 4,
 "nbformat_minor": 5
}
