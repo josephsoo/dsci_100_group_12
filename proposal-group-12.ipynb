{
 "cells": [
  {
   "cell_type": "markdown",
   "id": "c1253600-456b-4afe-aadf-300f828189d5",
   "metadata": {},
   "source": [
    "## Title"
   ]
  },
  {
   "cell_type": "markdown",
   "id": "e87f6851-f72c-436e-ab81-bf03190b588e",
   "metadata": {},
   "source": [
    "## Introduction:\n",
    "\n",
    "    Provide some relevant background information on the topic so that someone unfamiliar with it will be prepared to understand the rest of your proposal\n",
    "    Clearly state the question you will try to answer with your project\n",
    "    Identify and describe the dataset that will be used to answer the question\n",
    "\n"
   ]
  },
  {
   "cell_type": "markdown",
   "id": "9a700ab7-9969-4414-8b23-e2f4270938c5",
   "metadata": {},
   "source": [
    "## Preliminary exploratory data analysis:\n",
    "\n",
    "    Demonstrate that the dataset can be read from the web into R \n",
    "    Clean and wrangle your data into a tidy format\n",
    "    Using only training data, summarize the data in at least one table (this is exploratory data analysis). An example of a useful table could be one that reports the number of observations in each class, the means of the predictor variables you plan to use in your analysis and how many rows have missing data. \n",
    "    Using only training data, visualize the data with at least one plot relevant to the analysis you plan to do (this is exploratory data analysis). An example of a useful visualization could be one that compares the distributions of each of the predictor variables you plan to use in your analysis.\n",
    "\n"
   ]
  },
  {
   "cell_type": "code",
   "execution_count": 1,
   "id": "f535ca41-8635-449e-b01d-5908ce216ea7",
   "metadata": {},
   "outputs": [
    {
     "name": "stderr",
     "output_type": "stream",
     "text": [
      "── \u001b[1mAttaching packages\u001b[22m ─────────────────────────────────────── tidyverse 1.3.1 ──\n",
      "\n",
      "\u001b[32m✔\u001b[39m \u001b[34mggplot2\u001b[39m 3.3.6     \u001b[32m✔\u001b[39m \u001b[34mpurrr  \u001b[39m 0.3.4\n",
      "\u001b[32m✔\u001b[39m \u001b[34mtibble \u001b[39m 3.1.7     \u001b[32m✔\u001b[39m \u001b[34mdplyr  \u001b[39m 1.0.9\n",
      "\u001b[32m✔\u001b[39m \u001b[34mtidyr  \u001b[39m 1.2.0     \u001b[32m✔\u001b[39m \u001b[34mstringr\u001b[39m 1.4.0\n",
      "\u001b[32m✔\u001b[39m \u001b[34mreadr  \u001b[39m 2.1.2     \u001b[32m✔\u001b[39m \u001b[34mforcats\u001b[39m 0.5.1\n",
      "\n",
      "── \u001b[1mConflicts\u001b[22m ────────────────────────────────────────── tidyverse_conflicts() ──\n",
      "\u001b[31m✖\u001b[39m \u001b[34mdplyr\u001b[39m::\u001b[32mfilter()\u001b[39m masks \u001b[34mstats\u001b[39m::filter()\n",
      "\u001b[31m✖\u001b[39m \u001b[34mdplyr\u001b[39m::\u001b[32mlag()\u001b[39m    masks \u001b[34mstats\u001b[39m::lag()\n",
      "\n",
      "── \u001b[1mAttaching packages\u001b[22m ────────────────────────────────────── tidymodels 1.0.0 ──\n",
      "\n",
      "\u001b[32m✔\u001b[39m \u001b[34mbroom       \u001b[39m 1.0.0     \u001b[32m✔\u001b[39m \u001b[34mrsample     \u001b[39m 1.0.0\n",
      "\u001b[32m✔\u001b[39m \u001b[34mdials       \u001b[39m 1.0.0     \u001b[32m✔\u001b[39m \u001b[34mtune        \u001b[39m 1.0.0\n",
      "\u001b[32m✔\u001b[39m \u001b[34minfer       \u001b[39m 1.0.2     \u001b[32m✔\u001b[39m \u001b[34mworkflows   \u001b[39m 1.0.0\n",
      "\u001b[32m✔\u001b[39m \u001b[34mmodeldata   \u001b[39m 1.0.0     \u001b[32m✔\u001b[39m \u001b[34mworkflowsets\u001b[39m 1.0.0\n",
      "\u001b[32m✔\u001b[39m \u001b[34mparsnip     \u001b[39m 1.0.0     \u001b[32m✔\u001b[39m \u001b[34myardstick   \u001b[39m 1.0.0\n",
      "\u001b[32m✔\u001b[39m \u001b[34mrecipes     \u001b[39m 1.0.1     \n",
      "\n",
      "── \u001b[1mConflicts\u001b[22m ───────────────────────────────────────── tidymodels_conflicts() ──\n",
      "\u001b[31m✖\u001b[39m \u001b[34mscales\u001b[39m::\u001b[32mdiscard()\u001b[39m masks \u001b[34mpurrr\u001b[39m::discard()\n",
      "\u001b[31m✖\u001b[39m \u001b[34mdplyr\u001b[39m::\u001b[32mfilter()\u001b[39m   masks \u001b[34mstats\u001b[39m::filter()\n",
      "\u001b[31m✖\u001b[39m \u001b[34mrecipes\u001b[39m::\u001b[32mfixed()\u001b[39m  masks \u001b[34mstringr\u001b[39m::fixed()\n",
      "\u001b[31m✖\u001b[39m \u001b[34mdplyr\u001b[39m::\u001b[32mlag()\u001b[39m      masks \u001b[34mstats\u001b[39m::lag()\n",
      "\u001b[31m✖\u001b[39m \u001b[34myardstick\u001b[39m::\u001b[32mspec()\u001b[39m masks \u001b[34mreadr\u001b[39m::spec()\n",
      "\u001b[31m✖\u001b[39m \u001b[34mrecipes\u001b[39m::\u001b[32mstep()\u001b[39m   masks \u001b[34mstats\u001b[39m::step()\n",
      "\u001b[34m•\u001b[39m Learn how to get started at \u001b[32mhttps://www.tidymodels.org/start/\u001b[39m\n",
      "\n",
      "\u001b[1mRows: \u001b[22m\u001b[34m918\u001b[39m \u001b[1mColumns: \u001b[22m\u001b[34m12\u001b[39m\n",
      "\u001b[36m──\u001b[39m \u001b[1mColumn specification\u001b[22m \u001b[36m────────────────────────────────────────────────────────\u001b[39m\n",
      "\u001b[1mDelimiter:\u001b[22m \",\"\n",
      "\u001b[31mchr\u001b[39m (5): Sex, ChestPainType, RestingECG, ExerciseAngina, ST_Slope\n",
      "\u001b[32mdbl\u001b[39m (7): Age, RestingBP, Cholesterol, FastingBS, MaxHR, Oldpeak, HeartDisease\n",
      "\n",
      "\u001b[36mℹ\u001b[39m Use `spec()` to retrieve the full column specification for this data.\n",
      "\u001b[36mℹ\u001b[39m Specify the column types or set `show_col_types = FALSE` to quiet this message.\n"
     ]
    },
    {
     "data": {
      "text/html": [
       "<table class=\"dataframe\">\n",
       "<caption>A tibble: 6 × 12</caption>\n",
       "<thead>\n",
       "\t<tr><th scope=col>Age</th><th scope=col>Sex</th><th scope=col>ChestPainType</th><th scope=col>RestingBP</th><th scope=col>Cholesterol</th><th scope=col>FastingBS</th><th scope=col>RestingECG</th><th scope=col>MaxHR</th><th scope=col>ExerciseAngina</th><th scope=col>Oldpeak</th><th scope=col>ST_Slope</th><th scope=col>HeartDisease</th></tr>\n",
       "\t<tr><th scope=col>&lt;dbl&gt;</th><th scope=col>&lt;chr&gt;</th><th scope=col>&lt;chr&gt;</th><th scope=col>&lt;dbl&gt;</th><th scope=col>&lt;dbl&gt;</th><th scope=col>&lt;dbl&gt;</th><th scope=col>&lt;chr&gt;</th><th scope=col>&lt;dbl&gt;</th><th scope=col>&lt;chr&gt;</th><th scope=col>&lt;dbl&gt;</th><th scope=col>&lt;chr&gt;</th><th scope=col>&lt;fct&gt;</th></tr>\n",
       "</thead>\n",
       "<tbody>\n",
       "\t<tr><td>40</td><td>M</td><td>ATA</td><td>140</td><td>289</td><td>0</td><td>Normal</td><td>172</td><td>N</td><td>0.0</td><td>Up  </td><td>0</td></tr>\n",
       "\t<tr><td>49</td><td>F</td><td>NAP</td><td>160</td><td>180</td><td>0</td><td>Normal</td><td>156</td><td>N</td><td>1.0</td><td>Flat</td><td>1</td></tr>\n",
       "\t<tr><td>37</td><td>M</td><td>ATA</td><td>130</td><td>283</td><td>0</td><td>ST    </td><td> 98</td><td>N</td><td>0.0</td><td>Up  </td><td>0</td></tr>\n",
       "\t<tr><td>48</td><td>F</td><td>ASY</td><td>138</td><td>214</td><td>0</td><td>Normal</td><td>108</td><td>Y</td><td>1.5</td><td>Flat</td><td>1</td></tr>\n",
       "\t<tr><td>54</td><td>M</td><td>NAP</td><td>150</td><td>195</td><td>0</td><td>Normal</td><td>122</td><td>N</td><td>0.0</td><td>Up  </td><td>0</td></tr>\n",
       "\t<tr><td>39</td><td>M</td><td>NAP</td><td>120</td><td>339</td><td>0</td><td>Normal</td><td>170</td><td>N</td><td>0.0</td><td>Up  </td><td>0</td></tr>\n",
       "</tbody>\n",
       "</table>\n"
      ],
      "text/latex": [
       "A tibble: 6 × 12\n",
       "\\begin{tabular}{llllllllllll}\n",
       " Age & Sex & ChestPainType & RestingBP & Cholesterol & FastingBS & RestingECG & MaxHR & ExerciseAngina & Oldpeak & ST\\_Slope & HeartDisease\\\\\n",
       " <dbl> & <chr> & <chr> & <dbl> & <dbl> & <dbl> & <chr> & <dbl> & <chr> & <dbl> & <chr> & <fct>\\\\\n",
       "\\hline\n",
       "\t 40 & M & ATA & 140 & 289 & 0 & Normal & 172 & N & 0.0 & Up   & 0\\\\\n",
       "\t 49 & F & NAP & 160 & 180 & 0 & Normal & 156 & N & 1.0 & Flat & 1\\\\\n",
       "\t 37 & M & ATA & 130 & 283 & 0 & ST     &  98 & N & 0.0 & Up   & 0\\\\\n",
       "\t 48 & F & ASY & 138 & 214 & 0 & Normal & 108 & Y & 1.5 & Flat & 1\\\\\n",
       "\t 54 & M & NAP & 150 & 195 & 0 & Normal & 122 & N & 0.0 & Up   & 0\\\\\n",
       "\t 39 & M & NAP & 120 & 339 & 0 & Normal & 170 & N & 0.0 & Up   & 0\\\\\n",
       "\\end{tabular}\n"
      ],
      "text/markdown": [
       "\n",
       "A tibble: 6 × 12\n",
       "\n",
       "| Age &lt;dbl&gt; | Sex &lt;chr&gt; | ChestPainType &lt;chr&gt; | RestingBP &lt;dbl&gt; | Cholesterol &lt;dbl&gt; | FastingBS &lt;dbl&gt; | RestingECG &lt;chr&gt; | MaxHR &lt;dbl&gt; | ExerciseAngina &lt;chr&gt; | Oldpeak &lt;dbl&gt; | ST_Slope &lt;chr&gt; | HeartDisease &lt;fct&gt; |\n",
       "|---|---|---|---|---|---|---|---|---|---|---|---|\n",
       "| 40 | M | ATA | 140 | 289 | 0 | Normal | 172 | N | 0.0 | Up   | 0 |\n",
       "| 49 | F | NAP | 160 | 180 | 0 | Normal | 156 | N | 1.0 | Flat | 1 |\n",
       "| 37 | M | ATA | 130 | 283 | 0 | ST     |  98 | N | 0.0 | Up   | 0 |\n",
       "| 48 | F | ASY | 138 | 214 | 0 | Normal | 108 | Y | 1.5 | Flat | 1 |\n",
       "| 54 | M | NAP | 150 | 195 | 0 | Normal | 122 | N | 0.0 | Up   | 0 |\n",
       "| 39 | M | NAP | 120 | 339 | 0 | Normal | 170 | N | 0.0 | Up   | 0 |\n",
       "\n"
      ],
      "text/plain": [
       "  Age Sex ChestPainType RestingBP Cholesterol FastingBS RestingECG MaxHR\n",
       "1 40  M   ATA           140       289         0         Normal     172  \n",
       "2 49  F   NAP           160       180         0         Normal     156  \n",
       "3 37  M   ATA           130       283         0         ST          98  \n",
       "4 48  F   ASY           138       214         0         Normal     108  \n",
       "5 54  M   NAP           150       195         0         Normal     122  \n",
       "6 39  M   NAP           120       339         0         Normal     170  \n",
       "  ExerciseAngina Oldpeak ST_Slope HeartDisease\n",
       "1 N              0.0     Up       0           \n",
       "2 N              1.0     Flat     1           \n",
       "3 N              0.0     Up       0           \n",
       "4 Y              1.5     Flat     1           \n",
       "5 N              0.0     Up       0           \n",
       "6 N              0.0     Up       0           "
      ]
     },
     "metadata": {},
     "output_type": "display_data"
    },
    {
     "data": {
      "text/html": [
       "<table class=\"dataframe\">\n",
       "<caption>A tibble: 6 × 4</caption>\n",
       "<thead>\n",
       "\t<tr><th scope=col>HeartDisease</th><th scope=col>scaled_Cholesterol</th><th scope=col>scaled_RestingBP</th><th scope=col>scaled_MaxHR</th></tr>\n",
       "\t<tr><th scope=col>&lt;fct&gt;</th><th scope=col>&lt;dbl[,1]&gt;</th><th scope=col>&lt;dbl[,1]&gt;</th><th scope=col>&lt;dbl[,1]&gt;</th></tr>\n",
       "</thead>\n",
       "<tbody>\n",
       "\t<tr><td>0</td><td> 0.82462075</td><td> 0.4106850</td><td> 1.3821748</td></tr>\n",
       "\t<tr><td>1</td><td>-0.17186736</td><td> 1.4909396</td><td> 0.7537463</td></tr>\n",
       "\t<tr><td>0</td><td> 0.76976820</td><td>-0.1294423</td><td>-1.5243071</td></tr>\n",
       "\t<tr><td>1</td><td> 0.13896379</td><td> 0.3026596</td><td>-1.1315393</td></tr>\n",
       "\t<tr><td>0</td><td>-0.03473597</td><td> 0.9508123</td><td>-0.5816643</td></tr>\n",
       "\t<tr><td>0</td><td> 1.28172539</td><td>-0.6695696</td><td> 1.3036212</td></tr>\n",
       "</tbody>\n",
       "</table>\n"
      ],
      "text/latex": [
       "A tibble: 6 × 4\n",
       "\\begin{tabular}{llll}\n",
       " HeartDisease & scaled\\_Cholesterol & scaled\\_RestingBP & scaled\\_MaxHR\\\\\n",
       " <fct> & <dbl{[},1{]}> & <dbl{[},1{]}> & <dbl{[},1{]}>\\\\\n",
       "\\hline\n",
       "\t 0 &  0.82462075 &  0.4106850 &  1.3821748\\\\\n",
       "\t 1 & -0.17186736 &  1.4909396 &  0.7537463\\\\\n",
       "\t 0 &  0.76976820 & -0.1294423 & -1.5243071\\\\\n",
       "\t 1 &  0.13896379 &  0.3026596 & -1.1315393\\\\\n",
       "\t 0 & -0.03473597 &  0.9508123 & -0.5816643\\\\\n",
       "\t 0 &  1.28172539 & -0.6695696 &  1.3036212\\\\\n",
       "\\end{tabular}\n"
      ],
      "text/markdown": [
       "\n",
       "A tibble: 6 × 4\n",
       "\n",
       "| HeartDisease &lt;fct&gt; | scaled_Cholesterol &lt;dbl[,1]&gt; | scaled_RestingBP &lt;dbl[,1]&gt; | scaled_MaxHR &lt;dbl[,1]&gt; |\n",
       "|---|---|---|---|\n",
       "| 0 |  0.82462075 |  0.4106850 |  1.3821748 |\n",
       "| 1 | -0.17186736 |  1.4909396 |  0.7537463 |\n",
       "| 0 |  0.76976820 | -0.1294423 | -1.5243071 |\n",
       "| 1 |  0.13896379 |  0.3026596 | -1.1315393 |\n",
       "| 0 | -0.03473597 |  0.9508123 | -0.5816643 |\n",
       "| 0 |  1.28172539 | -0.6695696 |  1.3036212 |\n",
       "\n"
      ],
      "text/plain": [
       "  HeartDisease scaled_Cholesterol scaled_RestingBP scaled_MaxHR\n",
       "1 0             0.82462075         0.4106850        1.3821748  \n",
       "2 1            -0.17186736         1.4909396        0.7537463  \n",
       "3 0             0.76976820        -0.1294423       -1.5243071  \n",
       "4 1             0.13896379         0.3026596       -1.1315393  \n",
       "5 0            -0.03473597         0.9508123       -0.5816643  \n",
       "6 0             1.28172539        -0.6695696        1.3036212  "
      ]
     },
     "metadata": {},
     "output_type": "display_data"
    }
   ],
   "source": [
    "library(tidyverse)\n",
    "library(repr)\n",
    "library(tidymodels)\n",
    "\n",
    "heart <- read_csv(\"https://raw.githubusercontent.com/josephsoo/dsci_100_group_12/main/data/heart.csv\")|>\n",
    "mutate(HeartDisease = as_factor(HeartDisease))\n",
    "head(heart)\n",
    "\n",
    "heart_scaled <- heart|>\n",
    " mutate(scaled_Cholesterol = scale(Cholesterol, center = TRUE),\n",
    "        scaled_RestingBP = scale(RestingBP, center = TRUE),\n",
    "        scaled_MaxHR = scale(MaxHR, center = TRUE))|>\n",
    "select(HeartDisease, scaled_Cholesterol, scaled_RestingBP, scaled_MaxHR)\n",
    " \n",
    "head(heart_scaled)"
   ]
  },
  {
   "cell_type": "code",
   "execution_count": 2,
   "id": "6ae62ab1-e22c-42ea-a454-2d10aed0d329",
   "metadata": {},
   "outputs": [
    {
     "data": {
      "text/html": [
       "<table class=\"dataframe\">\n",
       "<caption>A tibble: 6 × 4</caption>\n",
       "<thead>\n",
       "\t<tr><th scope=col>HeartDisease</th><th scope=col>scaled_Cholesterol</th><th scope=col>scaled_RestingBP</th><th scope=col>scaled_Age</th></tr>\n",
       "\t<tr><th scope=col>&lt;fct&gt;</th><th scope=col>&lt;dbl[,1]&gt;</th><th scope=col>&lt;dbl[,1]&gt;</th><th scope=col>&lt;dbl[,1]&gt;</th></tr>\n",
       "</thead>\n",
       "<tbody>\n",
       "\t<tr><td>0</td><td> 0.82462075</td><td> 0.4106850</td><td>-1.43235901</td></tr>\n",
       "\t<tr><td>1</td><td>-0.17186736</td><td> 1.4909396</td><td>-0.47822290</td></tr>\n",
       "\t<tr><td>0</td><td> 0.76976820</td><td>-0.1294423</td><td>-1.75040438</td></tr>\n",
       "\t<tr><td>1</td><td> 0.13896379</td><td> 0.3026596</td><td>-0.58423803</td></tr>\n",
       "\t<tr><td>0</td><td>-0.03473597</td><td> 0.9508123</td><td> 0.05185271</td></tr>\n",
       "\t<tr><td>0</td><td> 1.28172539</td><td>-0.6695696</td><td>-1.53837413</td></tr>\n",
       "</tbody>\n",
       "</table>\n"
      ],
      "text/latex": [
       "A tibble: 6 × 4\n",
       "\\begin{tabular}{llll}\n",
       " HeartDisease & scaled\\_Cholesterol & scaled\\_RestingBP & scaled\\_Age\\\\\n",
       " <fct> & <dbl{[},1{]}> & <dbl{[},1{]}> & <dbl{[},1{]}>\\\\\n",
       "\\hline\n",
       "\t 0 &  0.82462075 &  0.4106850 & -1.43235901\\\\\n",
       "\t 1 & -0.17186736 &  1.4909396 & -0.47822290\\\\\n",
       "\t 0 &  0.76976820 & -0.1294423 & -1.75040438\\\\\n",
       "\t 1 &  0.13896379 &  0.3026596 & -0.58423803\\\\\n",
       "\t 0 & -0.03473597 &  0.9508123 &  0.05185271\\\\\n",
       "\t 0 &  1.28172539 & -0.6695696 & -1.53837413\\\\\n",
       "\\end{tabular}\n"
      ],
      "text/markdown": [
       "\n",
       "A tibble: 6 × 4\n",
       "\n",
       "| HeartDisease &lt;fct&gt; | scaled_Cholesterol &lt;dbl[,1]&gt; | scaled_RestingBP &lt;dbl[,1]&gt; | scaled_Age &lt;dbl[,1]&gt; |\n",
       "|---|---|---|---|\n",
       "| 0 |  0.82462075 |  0.4106850 | -1.43235901 |\n",
       "| 1 | -0.17186736 |  1.4909396 | -0.47822290 |\n",
       "| 0 |  0.76976820 | -0.1294423 | -1.75040438 |\n",
       "| 1 |  0.13896379 |  0.3026596 | -0.58423803 |\n",
       "| 0 | -0.03473597 |  0.9508123 |  0.05185271 |\n",
       "| 0 |  1.28172539 | -0.6695696 | -1.53837413 |\n",
       "\n"
      ],
      "text/plain": [
       "  HeartDisease scaled_Cholesterol scaled_RestingBP scaled_Age \n",
       "1 0             0.82462075         0.4106850       -1.43235901\n",
       "2 1            -0.17186736         1.4909396       -0.47822290\n",
       "3 0             0.76976820        -0.1294423       -1.75040438\n",
       "4 1             0.13896379         0.3026596       -0.58423803\n",
       "5 0            -0.03473597         0.9508123        0.05185271\n",
       "6 0             1.28172539        -0.6695696       -1.53837413"
      ]
     },
     "metadata": {},
     "output_type": "display_data"
    }
   ],
   "source": [
    "heart_scaled <- heart|>\n",
    " mutate(scaled_Cholesterol = scale(Cholesterol, center = TRUE),\n",
    "        scaled_RestingBP = scale(RestingBP, center = TRUE),\n",
    "        scaled_Age = scale(Age, center = TRUE))|>\n",
    "select(HeartDisease, scaled_Cholesterol, scaled_RestingBP, scaled_Age)\n",
    "\n",
    "head(heart_scaled)"
   ]
  },
  {
   "cell_type": "code",
   "execution_count": 3,
   "id": "d411384e-f1b3-47bc-8d4a-3c5668a84885",
   "metadata": {},
   "outputs": [],
   "source": [
    "set.seed(3456) \n",
    "\n",
    "heart_split <- initial_split(heart_scaled, prop = 0.75, strata = HeartDisease)  \n",
    "heart_train <- training(heart_split)   \n",
    "heart_test <- testing(heart_split)"
   ]
  },
  {
   "cell_type": "markdown",
   "id": "285782a3-ecc3-4d52-88ae-06315f17d738",
   "metadata": {},
   "source": [
    "## Methods:\n",
    "\n",
    "    Explain how you will conduct either your data analysis and which variables/columns you will use. Note - you do not need to use all variables/columns that exist in the raw data set. In fact, that's often not a good idea. For each variable think: is this a useful variable for prediction?\n",
    "    Describe at least one way that you will visualize the results\n",
    "\n"
   ]
  },
  {
   "cell_type": "markdown",
   "id": "512ddc01-eeec-4405-81c6-a7ff877a7f5a",
   "metadata": {},
   "source": [
    "FOR THE METHOD: do something like 6.8.2 in the textbook (https://datasciencebook.ca/classification2.html#finding-a-good-subset-of-predictors) to find the best subset of predictors with our set of resting bp, cholesterol, and age. Of course do other stuff too...\n",
    "\n",
    "                                                         "
   ]
  },
  {
   "cell_type": "markdown",
   "id": "f42e0399-3ea8-4fbf-be78-c680122fdbb7",
   "metadata": {},
   "source": [
    "## Expected outcomes and significance:\n",
    "\n",
    "**What do you expect to find?**\n",
    "- In this project, we expect to be able to use the predictors Age, Cholestreol, and resting blood pressure to answer the question: Will someone have heart disease?\n",
    "\n",
    "**What impact could such findings have?**\n",
    "\n",
    "- By knowing if someone will ahve heart disease, we could be able to take note of people at risk and monitor them more closely. This might allow people who may be at risk for heart disease to recieve treatment before it become too late\n",
    "**What future questions could this lead to?**\n",
    "\n",
    "- If could we identify factors that make people more likely to get heart disease, could we then be able to change the lifestyle of the person to change the chance of them getting heart disease?\n",
    "\n"
   ]
  }
 ],
 "metadata": {
  "kernelspec": {
   "display_name": "R",
   "language": "R",
   "name": "ir"
  },
  "language_info": {
   "codemirror_mode": "r",
   "file_extension": ".r",
   "mimetype": "text/x-r-source",
   "name": "R",
   "pygments_lexer": "r",
   "version": "4.1.3"
  }
 },
 "nbformat": 4,
 "nbformat_minor": 5
}
