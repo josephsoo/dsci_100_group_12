{
 "cells": [
  {
   "cell_type": "markdown",
   "id": "6f31bcbc-a281-42f0-a637-a5220e9ec532",
   "metadata": {},
   "source": [
    "heart_subset <- heart_scaled |>\n",
    "    select(HeartDisease,\n",
    "           scaled_Age,\n",
    "           scaled_Cholesterol,\n",
    "           scaled_RestingBP)\n",
    "names <- colnames(heart_subset |> select(-HeartDisease))\n",
    "heart_subset### This is a new notebook\n",
    "\n",
    "- Welcome to DSCI 100 group 12!\n",
    "\n"
   ]
  },
  {
   "cell_type": "code",
   "execution_count": null,
   "id": "8d3e5ce6-b06e-4ee7-96c5-ea40b623aff4",
   "metadata": {},
   "outputs": [],
   "source": [
    "heart_subset <- heart_scaled |>\n",
    "    select(HeartDisease,\n",
    "           scaled_Age,\n",
    "           scaled_Cholesterol,\n",
    "           scaled_RestingBP)\n",
    "names <- colnames(heart_subset |> select(-HeartDisease))\n",
    "heart_subset"
   ]
  },
  {
   "cell_type": "code",
   "execution_count": null,
   "id": "f51afa41-4ec1-4bfe-9d68-f700a31db335",
   "metadata": {},
   "outputs": [],
   "source": [
    "formula <- paste(\"HeartDisease\", \"~\", paste(names, collapse=\"+\"))\n",
    "formula"
   ]
  },
  {
   "cell_type": "code",
   "execution_count": null,
   "id": "5ebbb31e-59ac-4675-9214-701102c33d92",
   "metadata": {},
   "outputs": [],
   "source": [
    "# create an empty tibble to store the results\n",
    "accuracies <- tibble(size = integer(), \n",
    "                     model_string = character(), \n",
    "                     accuracy = numeric())\n",
    "\n",
    "# create a model specification\n",
    "knn_spec <- nearest_neighbor(weight_func = \"rectangular\", \n",
    "                             neighbors = tune()) |>\n",
    "     set_engine(\"kknn\") |>\n",
    "     set_mode(\"classification\")\n",
    "\n",
    "# create a 5-fold cross-validation object\n",
    "heart_vfold <- vfold_cv(heart_subset, v = 5, strata = HeartDisease)\n",
    "\n",
    "# store the total number of predictors\n",
    "n_total <- length(names)\n",
    "\n",
    "# stores selected predictors\n",
    "selected <- c()\n",
    "\n",
    "# for every size from 1 to the total number of predictors\n",
    "for (i in 1:n_total) {\n",
    "    # for every predictor still not added yet\n",
    "    accs <- list()\n",
    "    models <- list()\n",
    "    for (j in 1:length(names)) {\n",
    "        # create a model string for this combination of predictors\n",
    "        preds_new <- c(selected, names[[j]])\n",
    "        model_string <- paste(\"HeartDisease\", \"~\", paste(preds_new, collapse=\"+\"))\n",
    "\n",
    "        # create a recipe from the model string\n",
    "        heart_recipe <- recipe(as.formula(model_string), \n",
    "                                data = heart_subset) |>\n",
    "                          step_scale(all_predictors()) |>\n",
    "                          step_center(all_predictors())\n",
    "\n",
    "        # tune the KNN classifier with these predictors, \n",
    "        # and collect the accuracy for the best K\n",
    "        acc <- workflow() |>\n",
    "          add_recipe(heart_recipe) |>\n",
    "          add_model(knn_spec) |>\n",
    "          tune_grid(resamples = heart_vfold, grid = 10) |>\n",
    "          collect_metrics() |>\n",
    "          filter(.metric == \"accuracy\") |>\n",
    "          summarize(mx = max(mean))\n",
    "        acc <- acc$mx |> unlist()\n",
    "\n",
    "        # add this result to the dataframe\n",
    "        accs[[j]] <- acc\n",
    "        models[[j]] <- model_string\n",
    "    }\n",
    "    jstar <- which.max(unlist(accs))\n",
    "    accuracies <- accuracies |> \n",
    "      add_row(size = i, \n",
    "              model_string = models[[jstar]], \n",
    "              accuracy = accs[[jstar]])\n",
    "    selected <- c(selected, names[[jstar]])\n",
    "    names <- names[-jstar]\n",
    "}\n",
    "accuracies"
   ]
  }
 ],
 "metadata": {
  "kernelspec": {
   "display_name": "R",
   "language": "R",
   "name": "ir"
  },
  "language_info": {
   "codemirror_mode": "r",
   "file_extension": ".r",
   "mimetype": "text/x-r-source",
   "name": "R",
   "pygments_lexer": "r",
   "version": "4.1.3"
  }
 },
 "nbformat": 4,
 "nbformat_minor": 5
}
