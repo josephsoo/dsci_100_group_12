{
 "cells": [
  {
   "cell_type": "markdown",
   "id": "6f31bcbc-a281-42f0-a637-a5220e9ec532",
   "metadata": {},
   "source": [
    "### This is a new notebook\n",
    "\n",
    "- Welcome to DSCI 100 group 12!\n",
    "\n"
   ]
  }
 ],
 "metadata": {
  "kernelspec": {
   "display_name": "R",
   "language": "R",
   "name": "ir"
  },
  "language_info": {
   "codemirror_mode": "r",
   "file_extension": ".r",
   "mimetype": "text/x-r-source",
   "name": "R",
   "pygments_lexer": "r",
   "version": "4.1.3"
  }
 },
 "nbformat": 4,
 "nbformat_minor": 5
}
